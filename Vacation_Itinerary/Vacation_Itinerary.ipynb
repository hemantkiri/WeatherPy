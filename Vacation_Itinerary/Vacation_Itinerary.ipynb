{
 "cells": [
  {
   "cell_type": "markdown",
   "id": "91c882e7",
   "metadata": {},
   "source": [
    "## Deliverable 3: Create a Travel Itinerary Map "
   ]
  },
  {
   "cell_type": "code",
   "execution_count": 1,
   "id": "e89ddf90",
   "metadata": {},
   "outputs": [],
   "source": [
    "import pandas as pd\n",
    "import requests\n",
    "import gmaps\n",
    "\n",
    "from config import g_key"
   ]
  },
  {
   "cell_type": "code",
   "execution_count": 2,
   "id": "99035215",
   "metadata": {},
   "outputs": [
    {
     "data": {
      "text/plain": [
       "'0.9.0'"
      ]
     },
     "execution_count": 2,
     "metadata": {},
     "output_type": "execute_result"
    }
   ],
   "source": [
    "gmaps.__version__"
   ]
  },
  {
   "cell_type": "code",
   "execution_count": 3,
   "id": "ba2d1be7",
   "metadata": {},
   "outputs": [],
   "source": [
    "gmaps.configure(api_key=g_key)"
   ]
  },
  {
   "cell_type": "code",
   "execution_count": 4,
   "id": "441ec56c",
   "metadata": {},
   "outputs": [
    {
     "data": {
      "text/html": [
       "<div>\n",
       "<style scoped>\n",
       "    .dataframe tbody tr th:only-of-type {\n",
       "        vertical-align: middle;\n",
       "    }\n",
       "\n",
       "    .dataframe tbody tr th {\n",
       "        vertical-align: top;\n",
       "    }\n",
       "\n",
       "    .dataframe thead th {\n",
       "        text-align: right;\n",
       "    }\n",
       "</style>\n",
       "<table border=\"1\" class=\"dataframe\">\n",
       "  <thead>\n",
       "    <tr style=\"text-align: right;\">\n",
       "      <th></th>\n",
       "      <th>City_ID</th>\n",
       "      <th>City</th>\n",
       "      <th>Country</th>\n",
       "      <th>Max Temp</th>\n",
       "      <th>Lat</th>\n",
       "      <th>Lng</th>\n",
       "      <th>Hotel Name</th>\n",
       "    </tr>\n",
       "  </thead>\n",
       "  <tbody>\n",
       "    <tr>\n",
       "      <th>0</th>\n",
       "      <td>0</td>\n",
       "      <td>lebu</td>\n",
       "      <td>CL</td>\n",
       "      <td>287.01</td>\n",
       "      <td>-37.6167</td>\n",
       "      <td>-73.6500</td>\n",
       "      <td>Hostal Las Lilas</td>\n",
       "    </tr>\n",
       "    <tr>\n",
       "      <th>1</th>\n",
       "      <td>1</td>\n",
       "      <td>domoni</td>\n",
       "      <td>KM</td>\n",
       "      <td>301.15</td>\n",
       "      <td>-12.2569</td>\n",
       "      <td>44.5319</td>\n",
       "      <td>Al Djadid</td>\n",
       "    </tr>\n",
       "    <tr>\n",
       "      <th>2</th>\n",
       "      <td>2</td>\n",
       "      <td>kenai</td>\n",
       "      <td>US</td>\n",
       "      <td>268.18</td>\n",
       "      <td>60.5544</td>\n",
       "      <td>-151.2583</td>\n",
       "      <td>Aspen Extended Stay Suites</td>\n",
       "    </tr>\n",
       "    <tr>\n",
       "      <th>3</th>\n",
       "      <td>3</td>\n",
       "      <td>lasa</td>\n",
       "      <td>IT</td>\n",
       "      <td>277.85</td>\n",
       "      <td>46.6166</td>\n",
       "      <td>10.7002</td>\n",
       "      <td>Pension Feldgärtenhof</td>\n",
       "    </tr>\n",
       "    <tr>\n",
       "      <th>4</th>\n",
       "      <td>4</td>\n",
       "      <td>longkou</td>\n",
       "      <td>CN</td>\n",
       "      <td>271.81</td>\n",
       "      <td>37.6508</td>\n",
       "      <td>120.3286</td>\n",
       "      <td>Pai Hotel Yantai Longkou City Heping Road</td>\n",
       "    </tr>\n",
       "  </tbody>\n",
       "</table>\n",
       "</div>"
      ],
      "text/plain": [
       "   City_ID     City Country  Max Temp      Lat       Lng  \\\n",
       "0        0     lebu      CL    287.01 -37.6167  -73.6500   \n",
       "1        1   domoni      KM    301.15 -12.2569   44.5319   \n",
       "2        2    kenai      US    268.18  60.5544 -151.2583   \n",
       "3        3     lasa      IT    277.85  46.6166   10.7002   \n",
       "4        4  longkou      CN    271.81  37.6508  120.3286   \n",
       "\n",
       "                                  Hotel Name  \n",
       "0                           Hostal Las Lilas  \n",
       "1                                  Al Djadid  \n",
       "2                 Aspen Extended Stay Suites  \n",
       "3                      Pension Feldgärtenhof  \n",
       "4  Pai Hotel Yantai Longkou City Heping Road  "
      ]
     },
     "execution_count": 4,
     "metadata": {},
     "output_type": "execute_result"
    }
   ],
   "source": [
    "vacation_df = pd.read_csv(\"./data/WeatherPy_vacation.csv\")\n",
    "vacation_df.head()"
   ]
  },
  {
   "cell_type": "code",
   "execution_count": 5,
   "id": "30f7fce2",
   "metadata": {},
   "outputs": [],
   "source": [
    "# Using the templete add the hotel marks to the heatmap\n",
    "info_box_template = \"\"\"\n",
    "<dl>\n",
    "<dt>Hotel Name</dt><dd>{Hotel Name}</dd>\n",
    "<dt>City</dt><dd>{City}</dd>\n",
    "<dt>Country</dt><dd>{Country}</dd>\n",
    "<dt>Max Temp</dt><dd>{Max Temp} </dd>\n",
    "</dl>\n",
    "\"\"\"\n",
    "hotel_info = [info_box_template.format(**row) for index, row in vacation_df.iterrows()]\n",
    "locations = vacation_df[[\"Lat\", \"Lng\"]]"
   ]
  },
  {
   "cell_type": "code",
   "execution_count": 6,
   "id": "72df4e19",
   "metadata": {},
   "outputs": [
    {
     "data": {
      "application/vnd.jupyter.widget-view+json": {
       "model_id": "17190e09fbc444a2830423a2bac50a06",
       "version_major": 2,
       "version_minor": 0
      },
      "text/plain": [
       "Figure(layout=FigureLayout(height='420px'))"
      ]
     },
     "metadata": {},
     "output_type": "display_data"
    }
   ],
   "source": [
    "marker_layer = gmaps.marker_layer(locations, info_box_content=hotel_info)\n",
    "fig = gmaps.figure()\n",
    "fig.add_layer(marker_layer)\n",
    "\n",
    "fig"
   ]
  },
  {
   "cell_type": "code",
   "execution_count": 7,
   "id": "6ffe5732",
   "metadata": {},
   "outputs": [],
   "source": [
    "vacation_start = vacation_df.loc[vacation_df[\"City\"] == \"veraval\"]\n",
    "vacation_end = vacation_df.loc[vacation_df[\"City\"] == \"basna\"]\n",
    "vacation_stop1 = vacation_df.loc[vacation_df[\"City\"] == \"diu\"]\n",
    "vacation_stop2 = vacation_df.loc[vacation_df[\"City\"] == \"majholi\"]\n"
   ]
  },
  {
   "cell_type": "code",
   "execution_count": 15,
   "id": "5d943eb6",
   "metadata": {},
   "outputs": [
    {
     "name": "stdout",
     "output_type": "stream",
     "text": [
      "(20.9, 70.3667)\n",
      "(21.2833, 82.8167)\n",
      "(20.7141, 70.9822)\n",
      "(23.5, 79.9167)\n"
     ]
    }
   ],
   "source": [
    "start = vacation_start[\"Lat\"].values[0], vacation_start[\"Lng\"].values[0]\n",
    "end = vacation_end[\"Lat\"].values[0], vacation_end[\"Lng\"].values[0]\n",
    "stop1 = vacation_stop1[\"Lat\"].values[0], vacation_stop1[\"Lng\"].values[0]\n",
    "stop2 = vacation_stop2[\"Lat\"].values[0], vacation_stop2[\"Lng\"].values[0]\n",
    "print(start)\n",
    "print(end)\n",
    "print(stop1)\n",
    "print(stop2)\n"
   ]
  },
  {
   "cell_type": "code",
   "execution_count": 20,
   "id": "52081739",
   "metadata": {},
   "outputs": [
    {
     "data": {
      "application/vnd.jupyter.widget-view+json": {
       "model_id": "3bd184613843431eb592f770c21405b3",
       "version_major": 2,
       "version_minor": 0
      },
      "text/plain": [
       "Figure(layout=FigureLayout(height='420px'))"
      ]
     },
     "metadata": {},
     "output_type": "display_data"
    }
   ],
   "source": [
    "fig = gmaps.figure()\n",
    "vacation_itinerary = gmaps.directions_layer(\n",
    "    start,end,waypoints=[stop1,stop2],\n",
    "travel_mode=\"DRIVING\"\n",
    ")\n",
    "fig.add_layer(vacation_itinerary)\n",
    "fig\n"
   ]
  },
  {
   "cell_type": "code",
   "execution_count": 10,
   "id": "3cb63152",
   "metadata": {},
   "outputs": [],
   "source": [
    "itenerary_df = pd.concat([vacation_start, vacation_end, vacation_stop1, vacation_stop2],ignore_index=True)\n"
   ]
  },
  {
   "cell_type": "code",
   "execution_count": 11,
   "id": "480087fd",
   "metadata": {},
   "outputs": [
    {
     "data": {
      "text/html": [
       "<div>\n",
       "<style scoped>\n",
       "    .dataframe tbody tr th:only-of-type {\n",
       "        vertical-align: middle;\n",
       "    }\n",
       "\n",
       "    .dataframe tbody tr th {\n",
       "        vertical-align: top;\n",
       "    }\n",
       "\n",
       "    .dataframe thead th {\n",
       "        text-align: right;\n",
       "    }\n",
       "</style>\n",
       "<table border=\"1\" class=\"dataframe\">\n",
       "  <thead>\n",
       "    <tr style=\"text-align: right;\">\n",
       "      <th></th>\n",
       "      <th>City_ID</th>\n",
       "      <th>City</th>\n",
       "      <th>Country</th>\n",
       "      <th>Max Temp</th>\n",
       "      <th>Lat</th>\n",
       "      <th>Lng</th>\n",
       "      <th>Hotel Name</th>\n",
       "    </tr>\n",
       "  </thead>\n",
       "  <tbody>\n",
       "    <tr>\n",
       "      <th>0</th>\n",
       "      <td>370</td>\n",
       "      <td>veraval</td>\n",
       "      <td>IN</td>\n",
       "      <td>294.79</td>\n",
       "      <td>20.9000</td>\n",
       "      <td>70.3667</td>\n",
       "      <td>Lords Inn Somnath</td>\n",
       "    </tr>\n",
       "    <tr>\n",
       "      <th>1</th>\n",
       "      <td>300</td>\n",
       "      <td>basna</td>\n",
       "      <td>IN</td>\n",
       "      <td>295.48</td>\n",
       "      <td>21.2833</td>\n",
       "      <td>82.8167</td>\n",
       "      <td>Hotel Grand Alfa [BASNA]</td>\n",
       "    </tr>\n",
       "    <tr>\n",
       "      <th>2</th>\n",
       "      <td>530</td>\n",
       "      <td>diu</td>\n",
       "      <td>IN</td>\n",
       "      <td>294.85</td>\n",
       "      <td>20.7141</td>\n",
       "      <td>70.9822</td>\n",
       "      <td>Hotel Relax Inn</td>\n",
       "    </tr>\n",
       "    <tr>\n",
       "      <th>3</th>\n",
       "      <td>410</td>\n",
       "      <td>majholi</td>\n",
       "      <td>IN</td>\n",
       "      <td>287.73</td>\n",
       "      <td>23.5000</td>\n",
       "      <td>79.9167</td>\n",
       "      <td>Amit Jain majholi</td>\n",
       "    </tr>\n",
       "  </tbody>\n",
       "</table>\n",
       "</div>"
      ],
      "text/plain": [
       "   City_ID     City Country  Max Temp      Lat      Lng  \\\n",
       "0      370  veraval      IN    294.79  20.9000  70.3667   \n",
       "1      300    basna      IN    295.48  21.2833  82.8167   \n",
       "2      530      diu      IN    294.85  20.7141  70.9822   \n",
       "3      410  majholi      IN    287.73  23.5000  79.9167   \n",
       "\n",
       "                 Hotel Name  \n",
       "0         Lords Inn Somnath  \n",
       "1  Hotel Grand Alfa [BASNA]  \n",
       "2           Hotel Relax Inn  \n",
       "3         Amit Jain majholi  "
      ]
     },
     "execution_count": 11,
     "metadata": {},
     "output_type": "execute_result"
    }
   ],
   "source": [
    "itenerary_df"
   ]
  },
  {
   "cell_type": "code",
   "execution_count": 12,
   "id": "a1f4f1d1",
   "metadata": {},
   "outputs": [],
   "source": [
    "info_box_template = \"\"\"\n",
    "<dl>\n",
    "<dt>Hotel Name</dt><dd>{Hotel Name}</dd>\n",
    "<dt>City</dt><dd>{City}</dd>\n",
    "<dt>Country</dt><dd>{Country}</dd>\n",
    "<dt>Max Temp</dt><dd>{Max Temp} </dd>\n",
    "</dl>\n",
    "\"\"\"\n",
    "hotel_info = [info_box_template.format(**row) for index, row in itenerary_df.iterrows()]\n",
    "locations = itenerary_df[[\"Lat\", \"Lng\"]]"
   ]
  },
  {
   "cell_type": "code",
   "execution_count": 13,
   "id": "0a5a29c7",
   "metadata": {},
   "outputs": [],
   "source": [
    "#locations"
   ]
  },
  {
   "cell_type": "code",
   "execution_count": 14,
   "id": "c99faa0f",
   "metadata": {},
   "outputs": [
    {
     "data": {
      "application/vnd.jupyter.widget-view+json": {
       "model_id": "784334a12af9477092d4353bb5b0cb48",
       "version_major": 2,
       "version_minor": 0
      },
      "text/plain": [
       "Figure(layout=FigureLayout(height='420px'))"
      ]
     },
     "metadata": {},
     "output_type": "display_data"
    }
   ],
   "source": [
    "marker_layer = gmaps.marker_layer(locations, info_box_content=hotel_info)\n",
    "fig = gmaps.figure()\n",
    "fig.add_layer(marker_layer)\n",
    "\n",
    "fig"
   ]
  },
  {
   "cell_type": "code",
   "execution_count": null,
   "id": "6c2a829a",
   "metadata": {},
   "outputs": [],
   "source": []
  }
 ],
 "metadata": {
  "kernelspec": {
   "display_name": "PythonData",
   "language": "python",
   "name": "pythondata"
  },
  "language_info": {
   "codemirror_mode": {
    "name": "ipython",
    "version": 3
   },
   "file_extension": ".py",
   "mimetype": "text/x-python",
   "name": "python",
   "nbconvert_exporter": "python",
   "pygments_lexer": "ipython3",
   "version": "3.9.7"
  }
 },
 "nbformat": 4,
 "nbformat_minor": 5
}
